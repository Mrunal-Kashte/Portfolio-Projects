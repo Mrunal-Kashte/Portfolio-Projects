{
 "cells": [
  {
   "cell_type": "code",
   "execution_count": 5,
   "id": "41b966c4-062a-4fc6-8da1-ce6c8a6fdb62",
   "metadata": {},
   "outputs": [],
   "source": [
    "# import libraries\n",
    "\n",
    "from bs4 import BeautifulSoup\n",
    "import requests\n",
    "import time\n",
    "import datetime\n",
    "import smtplib"
   ]
  },
  {
   "cell_type": "code",
   "execution_count": 6,
   "id": "410ffb06-1809-4667-b07d-735a4ae7de98",
   "metadata": {},
   "outputs": [
    {
     "name": "stdout",
     "output_type": "stream",
     "text": [
      "\n",
      "                     Lymio Men T-Shirt || T-Shirt for Men || Plain T Shirt || T-Shirt (Polo-18-21)\n",
      "                    \n",
      "\n",
      "                       379\n",
      "                      \n",
      "\n",
      "                         3.6 out of 5 stars\n",
      "                        \n"
     ]
    }
   ],
   "source": [
    "# Connect to website\n",
    "\n",
    "URL = 'https://www.amazon.in/Lymio-T-Shirt-Plain-Shirt-Polo-18-21/dp/B0CZ47FCZK/ref=sr_1_21_sspa?dib=eyJ2IjoiMSJ9.1DbZdx0Z0vik1JyDFJzeRXj8mZiINhqfRmMkE5eI81kMt4Rt74--EtWLgwSbiBBSp7xmC34ilY6cTx_XUxVi0iiaYJCANESR0AnYXRS0Db-nOca_LuBs40VTeis891B7Dbqz3TB_XG4B7C0yXzKw0D5rvh6Ee1Jk_T-7GFXQG57uLnjbRX2orkQdQkT9BQnRpMLyWUpQZEayEG4nEJR3moXTb9DRWrL0Y3EGGEiWwhXVcvpmbCwDYY6H2pDTlmbQv0YV59eK9ZDc7_Ye7ZDO4j7jwC9Nf6KuMLRdWWzChgQ.eO5YB8XjhWuN5WKi0mANBpZS1I4EQ3bbvQ95lgAJ1VU&dib_tag=se&keywords=tagline+t+shirts&qid=1721137598&s=apparel&sr=1-21-spons&sp_csd=d2lkZ2V0TmFtZT1zcF9tdGY&psc=1'\n",
    "\n",
    "headers = {\"User-Agent\": \"Mozilla/5.0 (Windows NT 10.0; Win64; x64) AppleWebKit/537.36 (KHTML, like Gecko) Chrome/126.0.0.0 Safari/537.36\", \"X-Amzn-Trace-Id\": \"Root=1-66967c79-6dd048223fb9fa50448a4587\"}\n",
    "\n",
    "page = requests.get(URL, headers=headers)\n",
    "\n",
    "soup1 = BeautifulSoup(page.content, \"html.parser\")\n",
    "\n",
    "soup2 = BeautifulSoup(soup1.prettify(), \"html.parser\")\n",
    "\n",
    "title = soup2.find(id='productTitle').get_text()\n",
    "\n",
    "price = soup2.find(name=\"span\", class_=\"a-price-whole\").get_text()\n",
    "\n",
    "rating = soup2.find(name=\"span\", class_=\"a-icon-alt\").get_text()\n",
    "\n",
    "\n",
    "print(title)\n",
    "print(price)\n",
    "print(rating)"
   ]
  },
  {
   "cell_type": "code",
   "execution_count": 9,
   "id": "224c441a-4fea-4dfc-8e4e-4a96a2782507",
   "metadata": {},
   "outputs": [
    {
     "name": "stdout",
     "output_type": "stream",
     "text": [
      "Lymio Men T-Shirt\n",
      "379\n",
      "3.6\n"
     ]
    }
   ],
   "source": [
    "# Clean up the data a little bit\n",
    "\n",
    "price = price.strip()\n",
    "title = title.strip() [:17]\n",
    "rating = rating.strip()[:3]\n",
    "\n",
    "print(title)\n",
    "print(price)\n",
    "print(rating)"
   ]
  },
  {
   "cell_type": "code",
   "execution_count": 11,
   "id": "f25acd9f-1487-49c5-9c63-c8e6b81ba697",
   "metadata": {},
   "outputs": [
    {
     "name": "stdout",
     "output_type": "stream",
     "text": [
      "2024-07-18\n"
     ]
    }
   ],
   "source": [
    "# Create a Timestamp for your output to track when data was collected\n",
    "\n",
    "import datetime\n",
    "\n",
    "today = datetime.date.today()\n",
    "\n",
    "print(today)"
   ]
  },
  {
   "cell_type": "code",
   "execution_count": null,
   "id": "905996d3-4a2c-4e95-b9b6-ea159caba915",
   "metadata": {},
   "outputs": [],
   "source": [
    "# Create CSV and write headers and data into the file\n",
    "\n",
    "import csv \n",
    "\n",
    "header = ['Title', 'Price', 'Rating','Date']\n",
    "data = [title, price, rating,today]\n",
    "\n",
    "\n",
    "with open('AmazonWebScraper.csv', 'w', newline='', encoding='UTF8') as f:\n",
    "    writer = csv.writer(f)\n",
    "    writer.writerow(header)\n",
    "    writer.writerow(data)"
   ]
  },
  {
   "cell_type": "code",
   "execution_count": null,
   "id": "e890dfea-02eb-440c-b09b-835bd8ff2830",
   "metadata": {},
   "outputs": [],
   "source": [
    "import pandas as pd\n",
    "\n",
    "df = pd.read_csv(r'C:\\Users\\mahes\\AmazonWebScraperDataset.csv')\n",
    "\n",
    "print(df)"
   ]
  },
  {
   "cell_type": "code",
   "execution_count": null,
   "id": "70069e2e-1afb-4ca4-a5db-579b8d5d392b",
   "metadata": {},
   "outputs": [],
   "source": [
    "#Now we are appending data to the csv\n",
    "\n",
    "with open('AmazonWebScraperDataset.csv', 'a+', newline='', encoding='UTF8', header= False) as f:\n",
    "    writer = csv.writer(f)\n",
    "    writer.writerow(data)"
   ]
  },
  {
   "cell_type": "code",
   "execution_count": null,
   "id": "e4caaf48-6d9b-4a84-8fba-3c20c9f0ccd9",
   "metadata": {},
   "outputs": [],
   "source": [
    "#final Code\n",
    "#Combined all of the above code into one function\n",
    "\n",
    "from bs4 import BeautifulSoup\n",
    "import pandas as pd\n",
    "import requests\n",
    "import time\n",
    "import datetime\n",
    "import smtplib\n",
    "import csv \n",
    "\n",
    "def check_price():\n",
    "    URL = 'https://www.amazon.in/Lymio-T-Shirt-Plain-Shirt-Polo-18-21/dp/B0CZ47FCZK/ref=sr_1_21_sspa?dib=eyJ2IjoiMSJ9.1DbZdx0Z0vik1JyDFJzeRXj8mZiINhqfRmMkE5eI81kMt4Rt74--EtWLgwSbiBBSp7xmC34ilY6cTx_XUxVi0iiaYJCANESR0AnYXRS0Db-nOca_LuBs40VTeis891B7Dbqz3TB_XG4B7C0yXzKw0D5rvh6Ee1Jk_T-7GFXQG57uLnjbRX2orkQdQkT9BQnRpMLyWUpQZEayEG4nEJR3moXTb9DRWrL0Y3EGGEiWwhXVcvpmbCwDYY6H2pDTlmbQv0YV59eK9ZDc7_Ye7ZDO4j7jwC9Nf6KuMLRdWWzChgQ.eO5YB8XjhWuN5WKi0mANBpZS1I4EQ3bbvQ95lgAJ1VU&dib_tag=se&keywords=tagline+t+shirts&qid=1721137598&s=apparel&sr=1-21-spons&sp_csd=d2lkZ2V0TmFtZT1zcF9tdGY&psc=1'\n",
    "\n",
    "    headers = {\"User-Agent\": \"Mozilla/5.0 (Windows NT 10.0; Win64; x64) AppleWebKit/537.36 (KHTML, like Gecko) Chrome/126.0.0.0 Safari/537.36\", \"X-Amzn-Trace-Id\": \"Root=1-66967c79-6dd048223fb9fa50448a4587\"}\n",
    "\n",
    "    page = requests.get(URL, headers=headers)\n",
    "\n",
    "    soup1 = BeautifulSoup(page.content, \"html.parser\")\n",
    "\n",
    "    soup2 = BeautifulSoup(soup1.prettify(), \"html.parser\")\n",
    "\n",
    "    title = soup2.find(id='productTitle').get_text()\n",
    "\n",
    "    price = soup2.find(name=\"span\", class_=\"a-price-whole\").get_text()\n",
    "\n",
    "    rating = soup2.find(name=\"span\", class_=\"a-icon-alt\").get_text()\n",
    "\n",
    "    price = price.strip()\n",
    "    title = title.strip() [:17]\n",
    "    rating = rating.strip()[:3]\n",
    "\n",
    "\n",
    "    today = datetime.date.today()\n",
    "\n",
    "    header = ['Title', 'Price', 'Rating','Date']\n",
    "    data = [title, price, rating, today]\n",
    "\n",
    "    \n",
    "    with open('AmazonWebScraperDataset.csv', 'a+', newline='', encoding='UTF8') as f:\n",
    "            writer = csv.writer(f)\n",
    "            writer.writerow(data)\n",
    "\n",
    "    \n",
    "        \n",
    "    #if price < 300:\n",
    "        #send_mail()\n",
    " \n",
    "    "
   ]
  },
  {
   "cell_type": "code",
   "execution_count": null,
   "id": "9d42b875-c9fd-4c55-9543-c23d9b0a8350",
   "metadata": {},
   "outputs": [],
   "source": [
    "# Runs check_price after a set time and inputs data into your CSV\n",
    "\n",
    "while(True):\n",
    "    check_price()\n",
    "    time.sleep(5)"
   ]
  },
  {
   "cell_type": "code",
   "execution_count": 1,
   "id": "2e4ef59b-5387-4eff-8d19-1bf02095b440",
   "metadata": {},
   "outputs": [
    {
     "name": "stdout",
     "output_type": "stream",
     "text": [
      "                Title  Price  Rating        Date\n",
      "0   Lymio Men T-Shirt    379     3.6  2024-07-18\n",
      "1   Lymio Men T-Shirt    379     3.6  2024-07-18\n",
      "2   Lymio Men T-Shirt    379     3.6  2024-07-18\n",
      "3   Lymio Men T-Shirt    379     3.6  2024-07-18\n",
      "4   Lymio Men T-Shirt    379     3.6  2024-07-18\n",
      "5   Lymio Men T-Shirt    379     3.6  2024-07-18\n",
      "6   Lymio Men T-Shirt    379     3.6  2024-07-18\n",
      "7   Lymio Men T-Shirt    379     3.6  2024-07-18\n",
      "8   Lymio Men T-Shirt    379     3.6  2024-07-18\n",
      "9   Lymio Men T-Shirt    379     3.6  2024-07-18\n",
      "10  Lymio Men T-Shirt    379     3.6  2024-07-18\n",
      "11  Lymio Men T-Shirt    379     3.6  2024-07-18\n",
      "12  Lymio Men T-Shirt    379     3.6  2024-07-18\n",
      "13  Lymio Men T-Shirt    379     3.6  2024-07-18\n",
      "14  Lymio Men T-Shirt    379     3.6  2024-07-18\n",
      "15  Lymio Men T-Shirt    379     3.6  2024-07-18\n",
      "16  Lymio Men T-Shirt    379     3.6  2024-07-18\n",
      "17  Lymio Men T-Shirt    379     3.6  2024-07-18\n",
      "18  Lymio Men T-Shirt    379     3.6  2024-07-18\n",
      "19  Lymio Men T-Shirt    379     3.6  2024-07-18\n",
      "20  Lymio Men T-Shirt    379     3.6  2024-07-18\n",
      "21  Lymio Men T-Shirt    379     3.6  2024-07-18\n",
      "22  Lymio Men T-Shirt    379     3.6  2024-07-18\n",
      "23  Lymio Men T-Shirt    379     3.6  2024-07-18\n",
      "24  Lymio Men T-Shirt    379     3.6  2024-07-18\n"
     ]
    }
   ],
   "source": [
    "import pandas as pd\n",
    "\n",
    "df = pd.read_csv(r'C:\\Users\\mahes\\AmazonWebScraperDataset.csv')\n",
    "\n",
    "print(df)"
   ]
  },
  {
   "cell_type": "code",
   "execution_count": null,
   "id": "48f404e6-489b-4ed1-a60e-8a4a074224d9",
   "metadata": {},
   "outputs": [],
   "source": [
    "# Sending mail function to notify when the price decreses\n",
    "def send_mail():\n",
    "    server = smtplib.SMTP_SSL('smtp.gmail.com',465)\n",
    "    server.ehlo()\n",
    "    #server.starttls()\n",
    "    server.ehlo()\n",
    "    server.login('kashte.mrunal@gmail.com','xxxxxxxxxxxxxx')\n",
    "    \n",
    "    subject = \"The Shirt you want is below ₹ 300 Now is your chance to buy!\"\n",
    "    body = \"Mrunal, This is the moment we have been waiting for. Now is your chance to pick up the shirt of your dreams. Don't mess it up! Link here: https://www.amazon.in/Lymio-T-Shirt-Plain-Shirt-Polo-18-21/dp/B0CZ47FCZK/ref=sr_1_21_sspa?dib=eyJ2IjoiMSJ9.1DbZdx0Z0vik1JyDFJzeRXj8mZiINhqfRmMkE5eI81kMt4Rt74--EtWLgwSbiBBSp7xmC34ilY6cTx_XUxVi0iiaYJCANESR0AnYXRS0Db-nOca_LuBs40VTeis891B7Dbqz3TB_XG4B7C0yXzKw0D5rvh6Ee1Jk_T-7GFXQG57uLnjbRX2orkQdQkT9BQnRpMLyWUpQZEayEG4nEJR3moXTb9DRWrL0Y3EGGEiWwhXVcvpmbCwDYY6H2pDTlmbQv0YV59eK9ZDc7_Ye7ZDO4j7jwC9Nf6KuMLRdWWzChgQ.eO5YB8XjhWuN5WKi0mANBpZS1I4EQ3bbvQ95lgAJ1VU&dib_tag=se&keywords=tagline+t+shirts&qid=1721137598&s=apparel&sr=1-21-spons&sp_csd=d2lkZ2V0TmFtZT1zcF9tdGY&psc=1\"\n",
    "   \n",
    "    msg = f\"Subject: {subject}\\n\\n{body}\"\n",
    "    \n",
    "    server.sendmail(\n",
    "        'kashte.mrunal@gmail.com',\n",
    "        msg\n",
    "     \n",
    "    )Dataset.csv')\n",
    "\n",
    "print(df)"
   ]
  },
  {
   "cell_type": "code",
   "execution_count": null,
   "id": "bdfca627-b651-430a-b99c-9eb94b099720",
   "metadata": {},
   "outputs": [],
   "source": []
  }
 ],
 "metadata": {
  "kernelspec": {
   "display_name": "Python 3 (ipykernel)",
   "language": "python",
   "name": "python3"
  },
  "language_info": {
   "codemirror_mode": {
    "name": "ipython",
    "version": 3
   },
   "file_extension": ".py",
   "mimetype": "text/x-python",
   "name": "python",
   "nbconvert_exporter": "python",
   "pygments_lexer": "ipython3",
   "version": "3.12.4"
  }
 },
 "nbformat": 4,
 "nbformat_minor": 5
}
